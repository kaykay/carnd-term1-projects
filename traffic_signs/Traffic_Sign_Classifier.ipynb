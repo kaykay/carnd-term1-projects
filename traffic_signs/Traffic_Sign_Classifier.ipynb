{
 "cells": [
  {
   "cell_type": "markdown",
   "metadata": {},
   "source": [
    "# Self-Driving Car Engineer Nanodegree\n",
    "\n",
    "## Deep Learning\n",
    "\n",
    "## Project: Build a Traffic Sign Recognition Classifier\n",
    "\n",
    "In this notebook, a template is provided for you to implement your functionality in stages, which is required to successfully complete this project. If additional code is required that cannot be included in the notebook, be sure that the Python code is successfully imported and included in your submission if necessary. \n",
    "\n",
    "> **Note**: Once you have completed all of the code implementations, you need to finalize your work by exporting the iPython Notebook as an HTML document. Before exporting the notebook to html, all of the code cells need to have been run so that reviewers can see the final implementation and output. You can then export the notebook by using the menu above and navigating to  \\n\",\n",
    "    \"**File -> Download as -> HTML (.html)**. Include the finished document along with this notebook as your submission. \n",
    "\n",
    "In addition to implementing code, there is a writeup to complete. The writeup should be completed in a separate file, which can be either a markdown file or a pdf document. There is a [write up template](https://github.com/udacity/CarND-Traffic-Sign-Classifier-Project/blob/master/writeup_template.md) that can be used to guide the writing process. Completing the code template and writeup template will cover all of the [rubric points](https://review.udacity.com/#!/rubrics/481/view) for this project.\n",
    "\n",
    "The [rubric](https://review.udacity.com/#!/rubrics/481/view) contains \"Stand Out Suggestions\" for enhancing the project beyond the minimum requirements. The stand out suggestions are optional. If you decide to pursue the \"stand out suggestions\", you can include the code in this Ipython notebook and also discuss the results in the writeup file.\n",
    "\n",
    "\n",
    ">**Note:** Code and Markdown cells can be executed using the **Shift + Enter** keyboard shortcut. In addition, Markdown cells can be edited by typically double-clicking the cell to enter edit mode."
   ]
  },
  {
   "cell_type": "markdown",
   "metadata": {},
   "source": [
    "---\n",
    "## Step 0: Load The Data"
   ]
  },
  {
   "cell_type": "markdown",
   "metadata": {},
   "source": [
    "---\n",
    "\n",
    "## Step 1: Dataset Summary & Exploration\n",
    "\n",
    "The pickled data is a dictionary with 4 key/value pairs:\n",
    "\n",
    "- `'features'` is a 4D array containing raw pixel data of the traffic sign images, (num examples, width, height, channels).\n",
    "- `'labels'` is a 1D array containing the label/class id of the traffic sign. The file `signnames.csv` contains id -> name mappings for each id.\n",
    "- `'sizes'` is a list containing tuples, (width, height) representing the original width and height the image.\n",
    "- `'coords'` is a list containing tuples, (x1, y1, x2, y2) representing coordinates of a bounding box around the sign in the image. **THESE COORDINATES ASSUME THE ORIGINAL IMAGE. THE PICKLED DATA CONTAINS RESIZED VERSIONS (32 by 32) OF THESE IMAGES**\n",
    "\n",
    "Complete the basic data summary below. Use python, numpy and/or pandas methods to calculate the data summary rather than hard coding the results. For example, the [pandas shape method](http://pandas.pydata.org/pandas-docs/stable/generated/pandas.DataFrame.shape.html) might be useful for calculating some of the summary results. "
   ]
  },
  {
   "cell_type": "code",
   "execution_count": 186,
   "metadata": {},
   "outputs": [],
   "source": [
    "# Load pickled data\n",
    "import pickle\n",
    "\n",
    "# TODO: Fill this in based on where you saved the training and testing data\n",
    "\n",
    "training_file = 'train.p'\n",
    "validation_file= 'valid.p'\n",
    "testing_file = 'test.p'\n",
    "\n",
    "with open(training_file, mode='rb') as f:\n",
    "    train = pickle.load(f)\n",
    "with open(validation_file, mode='rb') as f:\n",
    "    valid = pickle.load(f)\n",
    "with open(testing_file, mode='rb') as f:\n",
    "    test = pickle.load(f)\n",
    "    \n",
    "X_train, y_train = train['features'], train['labels']\n",
    "X_validation, y_validation = valid['features'], valid['labels']\n",
    "X_test, y_test = test['features'], test['labels']"
   ]
  },
  {
   "cell_type": "code",
   "execution_count": 187,
   "metadata": {},
   "outputs": [],
   "source": [
    "import numpy as np\n",
    "def convToGrayScale(imgs):\n",
    "    gray = np.dot(imgs[...,:3], [0.299, 0.587, 0.114])\n",
    "    normalized = gray #np.apply_along_axis(lambda x: (x - np.amin(x)) / (np.amax(x) - np.amin(x)), 2, gray)\n",
    "    return np.reshape(normalized, (len(imgs), 32, 32, 1))\n",
    "    "
   ]
  },
  {
   "cell_type": "markdown",
   "metadata": {},
   "source": [
    "### Provide a Basic Summary of the Data Set Using Python, Numpy and/or Pandas"
   ]
  },
  {
   "cell_type": "code",
   "execution_count": 188,
   "metadata": {},
   "outputs": [
    {
     "name": "stdout",
     "output_type": "stream",
     "text": [
      "Number of training examples = 34799\n",
      "Number of testing examples = 12630\n",
      "Number of testing examples = 4410\n",
      "Image data shape = (32, 32, 3)\n",
      "[ 180 1980 2010 1260 1770 1650  360 1290 1260 1320 1800 1170 1890 1920  690\n",
      "  540  360  990 1080  180  300  270  330  450  240 1350  540  210  480  240\n",
      "  390  690  210  599  360 1080  330  180 1860  270  300  420]\n",
      "Number of classes = 43\n"
     ]
    },
    {
     "data": {
      "image/png": "[encoded data removed]",
      "text/plain": [
       "<matplotlib.figure.Figure at 0x7f84cfab0b70>"
      ]
     },
     "metadata": {},
     "output_type": "display_data"
    }
   ],
   "source": [
    "### Replace each question mark with the appropriate value. \n",
    "### Use python, pandas or numpy methods rather than hard coding the results\n",
    "import matplotlib.pyplot as plt\n",
    "\n",
    "# TODO: Number of training examples\n",
    "n_train = len(X_train)\n",
    "\n",
    "# TODO: Number of validation examples\n",
    "n_validation = len(X_validation)\n",
    "\n",
    "# TODO: Number of testing examples.\n",
    "n_test = len(X_test)\n",
    "\n",
    "# TODO: What's the shape of an traffic sign image?\n",
    "image_shape = X_train[0].shape\n",
    "\n",
    "# TODO: How many unique classes/labels there are in the dataset.\n",
    "n_classes = len(np.unique(y_train))\n",
    "\n",
    "print(\"Number of training examples =\", n_train)\n",
    "print(\"Number of testing examples =\", n_test)\n",
    "print(\"Number of testing examples =\", n_validation)\n",
    "print(\"Image data shape =\", image_shape)\n",
    "hist = np.histogram(y_train, bins=42, range=(0, 42))\n",
    "print(hist[0])\n",
    "plt.hist(y_train, 43)\n",
    "plt.hist(y_test, 43)\n",
    "\n",
    "print(\"Number of classes =\", n_classes)\n",
    "\n"
   ]
  },
  {
   "cell_type": "markdown",
   "metadata": {},
   "source": [
    "### Include an exploratory visualization of the dataset"
   ]
  },
  {
   "cell_type": "markdown",
   "metadata": {},
   "source": [
    "Visualize the German Traffic Signs Dataset using the pickled file(s). This is open ended, suggestions include: plotting traffic sign images, plotting the count of each sign, etc. \n",
    "\n",
    "The [Matplotlib](http://matplotlib.org/) [examples](http://matplotlib.org/examples/index.html) and [gallery](http://matplotlib.org/gallery.html) pages are a great resource for doing visualizations in Python.\n",
    "\n",
    "**NOTE:** It's recommended you start with something simple first. If you wish to do more, come back to it after you've completed the rest of the sections. It can be interesting to look at the distribution of classes in the training, validation and test set. Is the distribution the same? Are there more examples of some classes than others?"
   ]
  },
  {
   "cell_type": "code",
   "execution_count": 189,
   "metadata": {
    "scrolled": true
   },
   "outputs": [
    {
     "name": "stdout",
     "output_type": "stream",
     "text": [
      "Image shape: (32, 32, 3)\n",
      "17\n",
      "Image shape: (32, 32, 3)\n",
      "3\n",
      "Image shape: (32, 32, 3)\n",
      "18\n",
      "Image shape: (32, 32, 3)\n",
      "1\n",
      "Image shape: (32, 32, 3)\n",
      "2\n",
      "Image shape: (32, 32, 3)\n",
      "1\n",
      "Image shape: (32, 32, 3)\n",
      "28\n",
      "Image shape: (32, 32, 3)\n",
      "8\n",
      "Image shape: (32, 32, 3)\n",
      "14\n",
      "Image shape: (32, 32, 3)\n",
      "18\n"
     ]
    },
    {
     "data": {
      "image/png": "[encoded data removed]",
      "text/plain": [
       "<matplotlib.figure.Figure at 0x7f84ccfeca20>"
      ]
     },
     "metadata": {},
     "output_type": "display_data"
    },
    {
     "data": {
      "image/png": "[encoded data removed]",
      "text/plain": [
       "<matplotlib.figure.Figure at 0x7f84caf6eef0>"
      ]
     },
     "metadata": {},
     "output_type": "display_data"
    },
    {
     "data": {
      "image/png": "[encoded data removed]",
      "text/plain": [
       "<matplotlib.figure.Figure at 0x7f84cfcbbf60>"
      ]
     },
     "metadata": {},
     "output_type": "display_data"
    },
    {
     "data": {
      "image/png": "[encoded data removed]",
      "text/plain": [
       "<matplotlib.figure.Figure at 0x7f84caef6208>"
      ]
     },
     "metadata": {},
     "output_type": "display_data"
    },
    {
     "data": {
      "image/png": "[encoded data removed]",
      "text/plain": [
       "<matplotlib.figure.Figure at 0x7f84cd225c50>"
      ]
     },
     "metadata": {},
     "output_type": "display_data"
    },
    {
     "data": {
      "image/png": "[encoded data removed]",
      "text/plain": [
       "<matplotlib.figure.Figure at 0x7f84cfa5d3c8>"
      ]
     },
     "metadata": {},
     "output_type": "display_data"
    },
    {
     "data": {
      "image/png": "[encoded data removed]",
      "text/plain": [
       "<matplotlib.figure.Figure at 0x7f84cfc82550>"
      ]
     },
     "metadata": {},
     "output_type": "display_data"
    },
    {
     "data": {
      "image/png": "[encoded data removed]",
      "text/plain": [
       "<matplotlib.figure.Figure at 0x7f84caf4e9e8>"
      ]
     },
     "metadata": {},
     "output_type": "display_data"
    },
    {
     "data": {
      "image/png": "[encoded data removed]",
      "text/plain": [
       "<matplotlib.figure.Figure at 0x7f84cfa15470>"
      ]
     },
     "metadata": {},
     "output_type": "display_data"
    },
    {
     "data": {
      "image/png": "[encoded data removed]",
      "text/plain": [
       "<matplotlib.figure.Figure at 0x7f84d01d4630>"
      ]
     },
     "metadata": {},
     "output_type": "display_data"
    }
   ],
   "source": [
    "### Data exploration visualization code goes here.\n",
    "### Feel free to use as many code cells as needed.\n",
    "import random\n",
    "import matplotlib.pyplot as plt\n",
    "# Visualizations will be shown in the notebook.\n",
    "%matplotlib inline\n",
    "#Visualize 10 images\n",
    "for i in range(10):\n",
    "    index = random.randint(0, len(X_train))\n",
    "    image = X_train[index].squeeze()\n",
    "    print(\"Image shape: {}\".format(image.shape))\n",
    "    plt.figure(figsize=(2,2))\n",
    "    plt.imshow(image, cmap=\"gray\")\n",
    "    print(y_train[index])\n",
    "#distribution\n",
    "n_classes = np.unique(y_train, return_counts=True)\n",
    "\n",
    "y_pos = np.arange(len(n_classes[0]))\n",
    "#plt.bar(y_pos, n_classes[1], align='center', alpha=0.5, width=500)\n",
    "#plt.xticks(y_pos, n_classes[0])\n",
    "#plt.ylabel('Total')\n",
    "#plt.title('Class distribution for Train')\n",
    "#print(\"Class distribution for Train\", n_classes)\n"
   ]
  },
  {
   "cell_type": "markdown",
   "metadata": {},
   "source": [
    "----\n",
    "\n",
    "## Step 2: Design and Test a Model Architecture\n",
    "\n",
    "Design and implement a deep learning model that learns to recognize traffic signs. Train and test your model on the [German Traffic Sign Dataset](http://benchmark.ini.rub.de/?section=gtsrb&subsection=dataset).\n",
    "\n",
    "The LeNet-5 implementation shown in the [classroom](https://classroom.udacity.com/nanodegrees/nd013/parts/fbf77062-5703-404e-b60c-95b78b2f3f9e/modules/6df7ae49-c61c-4bb2-a23e-6527e69209ec/lessons/601ae704-1035-4287-8b11-e2c2716217ad/concepts/d4aca031-508f-4e0b-b493-e7b706120f81) at the end of the CNN lesson is a solid starting point. You'll have to change the number of classes and possibly the preprocessing, but aside from that it's plug and play! \n",
    "\n",
    "With the LeNet-5 solution from the lecture, you should expect a validation set accuracy of about 0.89. To meet specifications, the validation set accuracy will need to be at least 0.93. It is possible to get an even higher accuracy, but 0.93 is the minimum for a successful project submission. \n",
    "\n",
    "There are various aspects to consider when thinking about this problem:\n",
    "\n",
    "- Neural network architecture (is the network over or underfitting?)\n",
    "- Play around preprocessing techniques (normalization, rgb to grayscale, etc)\n",
    "- Number of examples per label (some have more than others).\n",
    "- Generate fake data.\n",
    "\n",
    "Here is an example of a [published baseline model on this problem](http://yann.lecun.com/exdb/publis/pdf/sermanet-ijcnn-11.pdf). It's not required to be familiar with the approach used in the paper but, it's good practice to try to read papers like these."
   ]
  },
  {
   "cell_type": "markdown",
   "metadata": {},
   "source": [
    "### Pre-process the Data Set (normalization, grayscale, etc.)"
   ]
  },
  {
   "cell_type": "markdown",
   "metadata": {},
   "source": [
    "Minimally, the image data should be normalized so that the data has mean zero and equal variance. For image data, `(pixel - 128)/ 128` is a quick way to approximately normalize the data and can be used in this project. \n",
    "\n",
    "Other pre-processing steps are optional. You can try different techniques to see if it improves performance. \n",
    "\n",
    "Use the code cell (or multiple code cells, if necessary) to implement the first step of your project."
   ]
  },
  {
   "cell_type": "code",
   "execution_count": 192,
   "metadata": {},
   "outputs": [
    {
     "name": "stdout",
     "output_type": "stream",
     "text": [
      "Image shape: (32, 32)\n",
      "25\n",
      "Image shape: (32, 32)\n",
      "18\n",
      "Image shape: (32, 32)\n",
      "38\n",
      "Image shape: (32, 32)\n",
      "15\n",
      "Image shape: (32, 32)\n",
      "12\n",
      "Image shape: (32, 32)\n",
      "39\n",
      "Image shape: (32, 32)\n",
      "25\n",
      "Image shape: (32, 32)\n",
      "12\n",
      "Image shape: (32, 32)\n",
      "35\n",
      "Image shape: (32, 32)\n",
      "21\n"
     ]
    },
    {
     "data": {
      "image/png": "[encoded data removed]",
      "text/plain": [
       "<matplotlib.figure.Figure at 0x7f84c7c64ac8>"
      ]
     },
     "metadata": {},
     "output_type": "display_data"
    },
    {
     "data": {
      "image/png": "[encoded data removed]",
      "text/plain": [
       "<matplotlib.figure.Figure at 0x7f84cfd052b0>"
      ]
     },
     "metadata": {},
     "output_type": "display_data"
    },
    {
     "data": {
      "image/png": "[encoded data removed]",
      "text/plain": [
       "<matplotlib.figure.Figure at 0x7f84caeb7d68>"
      ]
     },
     "metadata": {},
     "output_type": "display_data"
    },
    {
     "data": {
      "image/png": "[encoded data removed]",
      "text/plain": [
       "<matplotlib.figure.Figure at 0x7f84ccfb4940>"
      ]
     },
     "metadata": {},
     "output_type": "display_data"
    },
    {
     "data": {
      "image/png": "[encoded data removed]",
      "text/plain": [
       "<matplotlib.figure.Figure at 0x7f84c7d8db70>"
      ]
     },
     "metadata": {},
     "output_type": "display_data"
    },
    {
     "data": {
      "image/png": "[encoded data removed]",
      "text/plain": [
       "<matplotlib.figure.Figure at 0x7f84cfab7908>"
      ]
     },
     "metadata": {},
     "output_type": "display_data"
    },
    {
     "data": {
      "image/png": "[encoded data removed]",
      "text/plain": [
       "<matplotlib.figure.Figure at 0x7f84cd1a49e8>"
      ]
     },
     "metadata": {},
     "output_type": "display_data"
    },
    {
     "data": {
      "image/png": "[encoded data removed]",
      "text/plain": [
       "<matplotlib.figure.Figure at 0x7f84cd1a45f8>"
      ]
     },
     "metadata": {},
     "output_type": "display_data"
    },
    {
     "data": {
      "image/png": "[encoded data removed]",
      "text/plain": [
       "<matplotlib.figure.Figure at 0x7f84cfcf2b70>"
      ]
     },
     "metadata": {},
     "output_type": "display_data"
    },
    {
     "data": {
      "image/png": "[encoded data removed]",
      "text/plain": [
       "<matplotlib.figure.Figure at 0x7f84723f8470>"
      ]
     },
     "metadata": {},
     "output_type": "display_data"
    },
    {
     "data": {
      "image/png": "[encoded data removed]",
      "text/plain": [
       "<matplotlib.figure.Figure at 0x7f84cfcf2198>"
      ]
     },
     "metadata": {},
     "output_type": "display_data"
    },
    {
     "data": {
      "image/png": "[encoded data removed]",
      "text/plain": [
       "<matplotlib.figure.Figure at 0x7f84cfc9eb38>"
      ]
     },
     "metadata": {},
     "output_type": "display_data"
    },
    {
     "data": {
      "image/png": "[encoded data removed]",
      "text/plain": [
       "<matplotlib.figure.Figure at 0x7f84cfc9eb70>"
      ]
     },
     "metadata": {},
     "output_type": "display_data"
    },
    {
     "data": {
      "image/png": "[encoded data removed]",
      "text/plain": [
       "<matplotlib.figure.Figure at 0x7f84cf9460f0>"
      ]
     },
     "metadata": {},
     "output_type": "display_data"
    },
    {
     "data": {
      "image/png": "[encoded data removed]",
      "text/plain": [
       "<matplotlib.figure.Figure at 0x7f84cfbcfcf8>"
      ]
     },
     "metadata": {},
     "output_type": "display_data"
    },
    {
     "data": {
      "image/png": "[encoded data removed]",
      "text/plain": [
       "<matplotlib.figure.Figure at 0x7f84cfbcf128>"
      ]
     },
     "metadata": {},
     "output_type": "display_data"
    },
    {
     "data": {
      "image/png": "[encoded data removed]",
      "text/plain": [
       "<matplotlib.figure.Figure at 0x7f84d02bee48>"
      ]
     },
     "metadata": {},
     "output_type": "display_data"
    },
    {
     "data": {
      "image/png": "[encoded data removed]",
      "text/plain": [
       "<matplotlib.figure.Figure at 0x7f84c7e21358>"
      ]
     },
     "metadata": {},
     "output_type": "display_data"
    },
    {
     "data": {
      "image/png": "[encoded data removed]",
      "text/plain": [
       "<matplotlib.figure.Figure at 0x7f84cfe76c88>"
      ]
     },
     "metadata": {},
     "output_type": "display_data"
    },
    {
     "data": {
      "image/png": "[encoded data removed]",
      "text/plain": [
       "<matplotlib.figure.Figure at 0x7f84cfe76e80>"
      ]
     },
     "metadata": {},
     "output_type": "display_data"
    }
   ],
   "source": [
    "### Preprocess the data here. It is required to normalize the data. Other preprocessing steps could include \n",
    "### converting to grayscale, etc.\n",
    "### Feel free to use as many code cells as needed.\n",
    "from sklearn.utils import shuffle\n",
    "\n",
    "def normalize(imset):\n",
    "    rescale = lambda arrx : (arrx - np.amin(arrx)) / (np.amax(arrx) - np.amin(arrx))\n",
    "    return np.apply_along_axis(rescale, 0, imset)\n",
    "\n",
    "#Convert images to gray scale\n",
    "X_before_grayscaling = X_train\n",
    "X_train = convToGrayScale(X_train)\n",
    "X_test = convToGrayScale(X_test)\n",
    "X_validation = convToGrayScale(X_validation)\n",
    "\n",
    "X_train, y_train = shuffle(X_train, y_train)\n",
    "X_train = normalize(X_train)\n",
    "\n",
    "X_validation = normalize(X_validation)\n",
    "X_test = normalize(X_test)\n",
    "\n",
    "for i in range(10):\n",
    "    index = random.randint(0, len(X_train))\n",
    "    image = X_train[index].squeeze()\n",
    "    imageb = X_before_grayscaling[index]\n",
    "    print(\"Image shape: {}\".format(image.shape))\n",
    "    plt.figure(i*2, figsize=(2,2))\n",
    "    plt.imshow(imageb)\n",
    "    plt.figure(i *2+1, figsize=(2,2))\n",
    "    plt.imshow(image, cmap=\"gray\")\n",
    "    print(y_train[index])"
   ]
  },
  {
   "cell_type": "markdown",
   "metadata": {},
   "source": [
    "## Setup TensorFlow\n"
   ]
  },
  {
   "cell_type": "code",
   "execution_count": 127,
   "metadata": {
    "collapsed": true
   },
   "outputs": [],
   "source": [
    "import tensorflow as tf\n",
    "\n",
    "EPOCHS = 200\n",
    "BATCH_SIZE = 3000"
   ]
  },
  {
   "cell_type": "markdown",
   "metadata": {},
   "source": [
    "### Model Architecture"
   ]
  },
  {
   "cell_type": "code",
   "execution_count": 128,
   "metadata": {},
   "outputs": [],
   "source": [
    "### Define your architecture here.\n",
    "### Feel free to use as many code cells as needed.\n",
    "\n",
    "from tensorflow.contrib.layers import flatten\n",
    "\n",
    "def Convnet1(x):    \n",
    "    # Arguments used for tf.truncated_normal, randomly defines variables for the weights and biases for each layer\n",
    "    mu = 0\n",
    "    sigma = 0.1\n",
    "    \n",
    "    #Layer 1: Convolutional. Input = 32x32x1. Output = 28x28x24.\n",
    "    conv1_W = tf.Variable(tf.truncated_normal(shape=(5, 5, 1, 24), mean = mu, stddev = sigma))\n",
    "    conv1_b = tf.Variable(tf.zeros(24))\n",
    "    conv1   = tf.nn.conv2d(x, conv1_W, strides=[1, 1, 1, 1], padding='VALID') + conv1_b\n",
    "\n",
    "    # Activation.\n",
    "    conv1 = tf.nn.relu(conv1)\n",
    "\n",
    "    # Pooling. Input = 28x28x24. Output = 14x14x48.\n",
    "    conv1 = tf.nn.max_pool(conv1, ksize=[1, 2, 2, 1], strides=[1, 2, 2, 1], padding='VALID')\n",
    "    #Add dropout layer\n",
    "    conv1 = tf.nn.dropout(conv1, keep_prob)\n",
    "    # Layer 2: Convolutional. Output = 10x10x24.\n",
    "    conv2_W = tf.Variable(tf.truncated_normal(shape=(5, 5, 24, 48), mean = mu, stddev = sigma))\n",
    "    conv2_b = tf.Variable(tf.zeros(48))\n",
    "    conv2   = tf.nn.conv2d(conv1, conv2_W, strides=[1, 1, 1, 1], padding='VALID') + conv2_b\n",
    "    \n",
    "    #  Activation.\n",
    "    conv2 = tf.nn.relu(conv2)\n",
    "\n",
    "    # SOLUTION: Pooling. Input = 10x10x48. Output = 5x5x48.\n",
    "    conv2 = tf.nn.max_pool(conv2, ksize=[1, 2, 2, 1], strides=[1, 2, 2, 1], padding='VALID')\n",
    "\n",
    "    # SOLUTION: Flatten. Input = 5x5x48. Output = 1200.\n",
    "    fc0   = flatten(conv2)\n",
    "    \n",
    "    # SOLUTION: Layer 3: Fully Connected. Input = 1200. Output = 120.\n",
    "    fc1_W = tf.Variable(tf.truncated_normal(shape=(1200, 120), mean = mu, stddev = sigma))\n",
    "    fc1_b = tf.Variable(tf.zeros(120))\n",
    "    fc1   = tf.matmul(fc0, fc1_W) + fc1_b\n",
    "    \n",
    "    # SOLUTION: Activation.\n",
    "    fc1    = tf.nn.relu(fc1)\n",
    "    \n",
    "    #keep_prob = tf.Variable(0.75)\n",
    "    #Add dropout\n",
    "    fc1 = tf.nn.dropout(fc1, keep_prob)\n",
    "\n",
    "    # SOLUTION: Layer 5: Fully Connected. Input = 120. Output = 43.\n",
    "    fc3_W  = tf.Variable(tf.truncated_normal(shape=(120, 43), mean = mu, stddev = sigma))\n",
    "    fc3_b  = tf.Variable(tf.zeros(43))\n",
    "    logits = tf.matmul(fc1, fc3_W) + fc3_b\n",
    "    \n",
    "    return logits"
   ]
  },
  {
   "cell_type": "code",
   "execution_count": 129,
   "metadata": {},
   "outputs": [],
   "source": [
    "x = tf.placeholder(tf.float32, (None, 32, 32, 1))\n",
    "y = tf.placeholder(tf.int32, (None))\n",
    "keep_prob = tf.placeholder(tf.float32)\n",
    "one_hot_y = tf.one_hot(y, 43)"
   ]
  },
  {
   "cell_type": "code",
   "execution_count": 130,
   "metadata": {},
   "outputs": [],
   "source": [
    "rate = 0.001\n",
    "keep = 0.5\n",
    "logits = Convnet1(x)\n",
    "cross_entropy = tf.nn.softmax_cross_entropy_with_logits(labels=one_hot_y, logits=logits)\n",
    "loss_operation = tf.reduce_mean(cross_entropy)\n",
    "optimizer = tf.train.AdamOptimizer(learning_rate = rate)\n",
    "training_operation = optimizer.minimize(loss_operation)"
   ]
  },
  {
   "cell_type": "markdown",
   "metadata": {},
   "source": [
    "### Train, Validate and Test the Model"
   ]
  },
  {
   "cell_type": "markdown",
   "metadata": {},
   "source": [
    "A validation set can be used to assess how well the model is performing. A low accuracy on the training and validation\n",
    "sets imply underfitting. A high accuracy on the training set but low accuracy on the validation set implies overfitting."
   ]
  },
  {
   "cell_type": "code",
   "execution_count": 131,
   "metadata": {
    "collapsed": true
   },
   "outputs": [],
   "source": [
    "### Train your model here.\n",
    "### Calculate and report the accuracy on the training and validation set.\n",
    "### Once a final model architecture is selected, \n",
    "### the accuracy on the test set should be calculated and reported as well.\n",
    "### Feel free to use as many code cells as needed.\n",
    "correct_prediction = tf.equal(tf.argmax(logits, 1), tf.argmax(one_hot_y, 1))\n",
    "accuracy_operation = tf.reduce_mean(tf.cast(correct_prediction, tf.float32))\n",
    "saver = tf.train.Saver()\n",
    "\n",
    "def evaluate(X_data, y_data):\n",
    "    keep = 1.0\n",
    "    num_examples = len(X_data)\n",
    "    total_accuracy = 0\n",
    "    sess = tf.get_default_session()\n",
    "    for offset in range(0, num_examples, BATCH_SIZE):\n",
    "        batch_x, batch_y = X_data[offset:offset+BATCH_SIZE], y_data[offset:offset+BATCH_SIZE]\n",
    "        accuracy = sess.run(accuracy_operation, feed_dict={x: batch_x, y: batch_y, keep_prob: keep})\n",
    "        total_accuracy += (accuracy * len(batch_x))\n",
    "    return total_accuracy / num_examples"
   ]
  },
  {
   "cell_type": "code",
   "execution_count": 132,
   "metadata": {},
   "outputs": [
    {
     "name": "stdout",
     "output_type": "stream",
     "text": [
      "Training...\n",
      "\n",
      "EPOCH 1 ...\n",
      "Validation Accuracy = 0.097\n",
      "\n",
      "EPOCH 2 ...\n",
      "Validation Accuracy = 0.192\n",
      "\n",
      "EPOCH 3 ...\n",
      "Validation Accuracy = 0.299\n",
      "\n",
      "EPOCH 4 ...\n",
      "Validation Accuracy = 0.345\n",
      "\n",
      "EPOCH 5 ...\n",
      "Validation Accuracy = 0.422\n",
      "\n",
      "EPOCH 6 ...\n",
      "Validation Accuracy = 0.490\n",
      "\n",
      "EPOCH 7 ...\n",
      "Validation Accuracy = 0.533\n",
      "\n",
      "EPOCH 8 ...\n",
      "Validation Accuracy = 0.611\n",
      "\n",
      "EPOCH 9 ...\n",
      "Validation Accuracy = 0.673\n",
      "\n",
      "EPOCH 10 ...\n",
      "Validation Accuracy = 0.719\n",
      "\n",
      "EPOCH 11 ...\n",
      "Validation Accuracy = 0.760\n",
      "\n",
      "EPOCH 12 ...\n",
      "Validation Accuracy = 0.769\n",
      "\n",
      "EPOCH 13 ...\n",
      "Validation Accuracy = 0.798\n",
      "\n",
      "EPOCH 14 ...\n",
      "Validation Accuracy = 0.800\n",
      "\n",
      "EPOCH 15 ...\n",
      "Validation Accuracy = 0.825\n",
      "\n",
      "EPOCH 16 ...\n",
      "Validation Accuracy = 0.841\n",
      "\n",
      "EPOCH 17 ...\n",
      "Validation Accuracy = 0.855\n",
      "\n",
      "EPOCH 18 ...\n",
      "Validation Accuracy = 0.851\n",
      "\n",
      "EPOCH 19 ...\n",
      "Validation Accuracy = 0.863\n",
      "\n",
      "EPOCH 20 ...\n",
      "Validation Accuracy = 0.873\n",
      "\n",
      "EPOCH 21 ...\n",
      "Validation Accuracy = 0.872\n",
      "\n",
      "EPOCH 22 ...\n",
      "Validation Accuracy = 0.878\n",
      "\n",
      "EPOCH 23 ...\n",
      "Validation Accuracy = 0.892\n",
      "\n",
      "EPOCH 24 ...\n",
      "Validation Accuracy = 0.898\n",
      "\n",
      "EPOCH 25 ...\n",
      "Validation Accuracy = 0.892\n",
      "\n",
      "EPOCH 26 ...\n",
      "Validation Accuracy = 0.902\n",
      "\n",
      "EPOCH 27 ...\n",
      "Validation Accuracy = 0.901\n",
      "\n",
      "EPOCH 28 ...\n",
      "Validation Accuracy = 0.902\n",
      "\n",
      "EPOCH 29 ...\n",
      "Validation Accuracy = 0.906\n",
      "\n",
      "EPOCH 30 ...\n",
      "Validation Accuracy = 0.911\n",
      "\n",
      "EPOCH 31 ...\n",
      "Validation Accuracy = 0.914\n",
      "\n",
      "EPOCH 32 ...\n",
      "Validation Accuracy = 0.915\n",
      "\n",
      "EPOCH 33 ...\n",
      "Validation Accuracy = 0.917\n",
      "\n",
      "EPOCH 34 ...\n",
      "Validation Accuracy = 0.920\n",
      "\n",
      "EPOCH 35 ...\n",
      "Validation Accuracy = 0.914\n",
      "\n",
      "EPOCH 36 ...\n",
      "Validation Accuracy = 0.921\n",
      "\n",
      "EPOCH 37 ...\n",
      "Validation Accuracy = 0.913\n",
      "\n",
      "EPOCH 38 ...\n",
      "Validation Accuracy = 0.921\n",
      "\n",
      "EPOCH 39 ...\n",
      "Validation Accuracy = 0.920\n",
      "\n",
      "EPOCH 40 ...\n",
      "Validation Accuracy = 0.926\n",
      "\n",
      "EPOCH 41 ...\n",
      "Validation Accuracy = 0.928\n",
      "\n",
      "EPOCH 42 ...\n",
      "Validation Accuracy = 0.930\n",
      "\n",
      "EPOCH 43 ...\n",
      "Validation Accuracy = 0.930\n",
      "\n",
      "EPOCH 44 ...\n",
      "Validation Accuracy = 0.931\n",
      "\n",
      "EPOCH 45 ...\n",
      "Validation Accuracy = 0.932\n",
      "\n",
      "EPOCH 46 ...\n",
      "Validation Accuracy = 0.927\n",
      "\n",
      "EPOCH 47 ...\n",
      "Validation Accuracy = 0.928\n",
      "\n",
      "EPOCH 48 ...\n",
      "Validation Accuracy = 0.927\n",
      "\n",
      "EPOCH 49 ...\n",
      "Validation Accuracy = 0.930\n",
      "\n",
      "EPOCH 50 ...\n",
      "Validation Accuracy = 0.932\n",
      "\n",
      "EPOCH 51 ...\n",
      "Validation Accuracy = 0.935\n",
      "\n",
      "EPOCH 52 ...\n",
      "Validation Accuracy = 0.937\n",
      "\n",
      "EPOCH 53 ...\n",
      "Validation Accuracy = 0.932\n",
      "\n",
      "EPOCH 54 ...\n",
      "Validation Accuracy = 0.933\n",
      "\n",
      "EPOCH 55 ...\n",
      "Validation Accuracy = 0.936\n",
      "\n",
      "EPOCH 56 ...\n",
      "Validation Accuracy = 0.939\n",
      "\n",
      "EPOCH 57 ...\n",
      "Validation Accuracy = 0.937\n",
      "\n",
      "EPOCH 58 ...\n",
      "Validation Accuracy = 0.936\n",
      "\n",
      "EPOCH 59 ...\n",
      "Validation Accuracy = 0.939\n",
      "\n",
      "EPOCH 60 ...\n",
      "Validation Accuracy = 0.944\n",
      "\n",
      "EPOCH 61 ...\n",
      "Validation Accuracy = 0.944\n",
      "\n",
      "EPOCH 62 ...\n",
      "Validation Accuracy = 0.944\n",
      "\n",
      "EPOCH 63 ...\n",
      "Validation Accuracy = 0.942\n",
      "\n",
      "EPOCH 64 ...\n",
      "Validation Accuracy = 0.940\n",
      "\n",
      "EPOCH 65 ...\n",
      "Validation Accuracy = 0.940\n",
      "\n",
      "EPOCH 66 ...\n",
      "Validation Accuracy = 0.939\n",
      "\n",
      "EPOCH 67 ...\n",
      "Validation Accuracy = 0.931\n",
      "\n",
      "EPOCH 68 ...\n",
      "Validation Accuracy = 0.944\n",
      "\n",
      "EPOCH 69 ...\n",
      "Validation Accuracy = 0.945\n",
      "\n",
      "EPOCH 70 ...\n",
      "Validation Accuracy = 0.945\n",
      "\n",
      "EPOCH 71 ...\n",
      "Validation Accuracy = 0.943\n",
      "\n",
      "EPOCH 72 ...\n",
      "Validation Accuracy = 0.940\n",
      "\n",
      "EPOCH 73 ...\n",
      "Validation Accuracy = 0.941\n",
      "\n",
      "EPOCH 74 ...\n",
      "Validation Accuracy = 0.944\n",
      "\n",
      "EPOCH 75 ...\n",
      "Validation Accuracy = 0.944\n",
      "\n",
      "EPOCH 76 ...\n",
      "Validation Accuracy = 0.947\n",
      "\n",
      "EPOCH 77 ...\n",
      "Validation Accuracy = 0.941\n",
      "\n",
      "EPOCH 78 ...\n",
      "Validation Accuracy = 0.939\n",
      "\n",
      "EPOCH 79 ...\n",
      "Validation Accuracy = 0.941\n",
      "\n",
      "EPOCH 80 ...\n",
      "Validation Accuracy = 0.945\n",
      "\n",
      "EPOCH 81 ...\n",
      "Validation Accuracy = 0.944\n",
      "\n",
      "EPOCH 82 ...\n",
      "Validation Accuracy = 0.946\n",
      "\n",
      "EPOCH 83 ...\n",
      "Validation Accuracy = 0.939\n",
      "\n",
      "EPOCH 84 ...\n",
      "Validation Accuracy = 0.943\n",
      "\n",
      "EPOCH 85 ...\n",
      "Validation Accuracy = 0.943\n",
      "\n",
      "EPOCH 86 ...\n",
      "Validation Accuracy = 0.944\n",
      "\n",
      "EPOCH 87 ...\n",
      "Validation Accuracy = 0.946\n",
      "\n",
      "EPOCH 88 ...\n",
      "Validation Accuracy = 0.949\n",
      "\n",
      "EPOCH 89 ...\n",
      "Validation Accuracy = 0.947\n",
      "\n",
      "EPOCH 90 ...\n",
      "Validation Accuracy = 0.943\n",
      "\n",
      "EPOCH 91 ...\n",
      "Validation Accuracy = 0.947\n",
      "\n",
      "EPOCH 92 ...\n",
      "Validation Accuracy = 0.947\n",
      "\n",
      "EPOCH 93 ...\n",
      "Validation Accuracy = 0.943\n",
      "\n",
      "EPOCH 94 ...\n",
      "Validation Accuracy = 0.948\n",
      "\n",
      "EPOCH 95 ...\n",
      "Validation Accuracy = 0.945\n",
      "\n",
      "EPOCH 96 ...\n",
      "Validation Accuracy = 0.946\n",
      "\n",
      "EPOCH 97 ...\n",
      "Validation Accuracy = 0.948\n",
      "\n",
      "EPOCH 98 ...\n",
      "Validation Accuracy = 0.947\n",
      "\n",
      "EPOCH 99 ...\n",
      "Validation Accuracy = 0.946\n",
      "\n",
      "EPOCH 100 ...\n",
      "Validation Accuracy = 0.949\n",
      "\n",
      "EPOCH 101 ...\n",
      "Validation Accuracy = 0.949\n",
      "\n",
      "EPOCH 102 ...\n",
      "Validation Accuracy = 0.945\n",
      "\n",
      "EPOCH 103 ...\n",
      "Validation Accuracy = 0.945\n",
      "\n",
      "EPOCH 104 ...\n",
      "Validation Accuracy = 0.947\n",
      "\n",
      "EPOCH 105 ...\n",
      "Validation Accuracy = 0.945\n",
      "\n",
      "EPOCH 106 ...\n",
      "Validation Accuracy = 0.947\n",
      "\n",
      "EPOCH 107 ...\n",
      "Validation Accuracy = 0.948\n",
      "\n",
      "EPOCH 108 ...\n",
      "Validation Accuracy = 0.939\n",
      "\n",
      "EPOCH 109 ...\n",
      "Validation Accuracy = 0.945\n",
      "\n",
      "EPOCH 110 ...\n",
      "Validation Accuracy = 0.945\n",
      "\n",
      "EPOCH 111 ...\n",
      "Validation Accuracy = 0.949\n",
      "\n",
      "EPOCH 112 ...\n",
      "Validation Accuracy = 0.945\n",
      "\n",
      "EPOCH 113 ...\n",
      "Validation Accuracy = 0.945\n",
      "\n",
      "EPOCH 114 ...\n",
      "Validation Accuracy = 0.949\n",
      "\n",
      "EPOCH 115 ...\n",
      "Validation Accuracy = 0.950\n",
      "\n",
      "EPOCH 116 ...\n",
      "Validation Accuracy = 0.947\n",
      "\n",
      "EPOCH 117 ...\n",
      "Validation Accuracy = 0.954\n",
      "\n",
      "EPOCH 118 ...\n",
      "Validation Accuracy = 0.951\n",
      "\n",
      "EPOCH 119 ...\n",
      "Validation Accuracy = 0.951\n",
      "\n",
      "EPOCH 120 ...\n",
      "Validation Accuracy = 0.951\n",
      "\n",
      "EPOCH 121 ...\n",
      "Validation Accuracy = 0.949\n",
      "\n",
      "EPOCH 122 ...\n",
      "Validation Accuracy = 0.948\n",
      "\n",
      "EPOCH 123 ...\n",
      "Validation Accuracy = 0.949\n",
      "\n",
      "EPOCH 124 ...\n",
      "Validation Accuracy = 0.948\n",
      "\n",
      "EPOCH 125 ...\n",
      "Validation Accuracy = 0.951\n",
      "\n",
      "EPOCH 126 ...\n",
      "Validation Accuracy = 0.948\n",
      "\n",
      "EPOCH 127 ...\n",
      "Validation Accuracy = 0.952\n",
      "\n",
      "EPOCH 128 ...\n",
      "Validation Accuracy = 0.954\n",
      "\n",
      "EPOCH 129 ...\n",
      "Validation Accuracy = 0.955\n",
      "\n",
      "EPOCH 130 ...\n",
      "Validation Accuracy = 0.954\n",
      "\n",
      "EPOCH 131 ...\n",
      "Validation Accuracy = 0.952\n",
      "\n",
      "EPOCH 132 ...\n",
      "Validation Accuracy = 0.955\n",
      "\n",
      "EPOCH 133 ...\n",
      "Validation Accuracy = 0.951\n",
      "\n",
      "EPOCH 134 ...\n",
      "Validation Accuracy = 0.950\n",
      "\n",
      "EPOCH 135 ...\n",
      "Validation Accuracy = 0.950\n",
      "\n",
      "EPOCH 136 ...\n",
      "Validation Accuracy = 0.949\n",
      "\n",
      "EPOCH 137 ...\n",
      "Validation Accuracy = 0.949\n",
      "\n",
      "EPOCH 138 ...\n",
      "Validation Accuracy = 0.952\n",
      "\n",
      "EPOCH 139 ...\n",
      "Validation Accuracy = 0.951\n",
      "\n",
      "EPOCH 140 ...\n",
      "Validation Accuracy = 0.950\n",
      "\n",
      "EPOCH 141 ...\n",
      "Validation Accuracy = 0.955\n",
      "\n",
      "EPOCH 142 ...\n",
      "Validation Accuracy = 0.957\n",
      "\n",
      "EPOCH 143 ...\n",
      "Validation Accuracy = 0.956\n",
      "\n",
      "EPOCH 144 ...\n",
      "Validation Accuracy = 0.956\n",
      "\n",
      "EPOCH 145 ...\n",
      "Validation Accuracy = 0.955\n",
      "\n",
      "EPOCH 146 ...\n",
      "Validation Accuracy = 0.952\n",
      "\n",
      "EPOCH 147 ...\n",
      "Validation Accuracy = 0.955\n",
      "\n",
      "EPOCH 148 ...\n",
      "Validation Accuracy = 0.958\n",
      "\n",
      "EPOCH 149 ...\n",
      "Validation Accuracy = 0.957\n",
      "\n",
      "EPOCH 150 ...\n",
      "Validation Accuracy = 0.953\n",
      "\n",
      "EPOCH 151 ...\n",
      "Validation Accuracy = 0.954\n",
      "\n",
      "EPOCH 152 ...\n",
      "Validation Accuracy = 0.956\n",
      "\n",
      "EPOCH 153 ...\n",
      "Validation Accuracy = 0.957\n",
      "\n",
      "EPOCH 154 ...\n",
      "Validation Accuracy = 0.956\n",
      "\n",
      "EPOCH 155 ...\n",
      "Validation Accuracy = 0.954\n",
      "\n",
      "EPOCH 156 ...\n",
      "Validation Accuracy = 0.953\n",
      "\n",
      "EPOCH 157 ...\n",
      "Validation Accuracy = 0.957\n",
      "\n",
      "EPOCH 158 ...\n",
      "Validation Accuracy = 0.957\n",
      "\n",
      "EPOCH 159 ...\n",
      "Validation Accuracy = 0.954\n",
      "\n",
      "EPOCH 160 ...\n",
      "Validation Accuracy = 0.954\n",
      "\n",
      "EPOCH 161 ...\n",
      "Validation Accuracy = 0.956\n",
      "\n",
      "EPOCH 162 ...\n",
      "Validation Accuracy = 0.954\n",
      "\n",
      "EPOCH 163 ...\n",
      "Validation Accuracy = 0.952\n",
      "\n",
      "EPOCH 164 ...\n",
      "Validation Accuracy = 0.956\n",
      "\n",
      "EPOCH 165 ...\n",
      "Validation Accuracy = 0.956\n",
      "\n",
      "EPOCH 166 ...\n",
      "Validation Accuracy = 0.953\n",
      "\n",
      "EPOCH 167 ...\n",
      "Validation Accuracy = 0.953\n",
      "\n",
      "EPOCH 168 ...\n",
      "Validation Accuracy = 0.954\n",
      "\n",
      "EPOCH 169 ...\n",
      "Validation Accuracy = 0.956\n",
      "\n",
      "EPOCH 170 ...\n",
      "Validation Accuracy = 0.950\n",
      "\n",
      "EPOCH 171 ...\n",
      "Validation Accuracy = 0.957\n",
      "\n",
      "EPOCH 172 ...\n",
      "Validation Accuracy = 0.951\n",
      "\n",
      "EPOCH 173 ...\n",
      "Validation Accuracy = 0.953\n",
      "\n",
      "EPOCH 174 ...\n",
      "Validation Accuracy = 0.954\n",
      "\n",
      "EPOCH 175 ...\n",
      "Validation Accuracy = 0.955\n",
      "\n",
      "EPOCH 176 ...\n",
      "Validation Accuracy = 0.958\n",
      "\n",
      "EPOCH 177 ...\n",
      "Validation Accuracy = 0.956\n",
      "\n",
      "EPOCH 178 ...\n",
      "Validation Accuracy = 0.960\n",
      "\n",
      "EPOCH 179 ...\n",
      "Validation Accuracy = 0.956\n",
      "\n",
      "EPOCH 180 ...\n",
      "Validation Accuracy = 0.959\n",
      "\n",
      "EPOCH 181 ...\n",
      "Validation Accuracy = 0.958\n",
      "\n",
      "EPOCH 182 ...\n",
      "Validation Accuracy = 0.959\n",
      "\n",
      "EPOCH 183 ...\n",
      "Validation Accuracy = 0.958\n",
      "\n",
      "EPOCH 184 ...\n",
      "Validation Accuracy = 0.958\n",
      "\n",
      "EPOCH 185 ...\n",
      "Validation Accuracy = 0.955\n",
      "\n",
      "EPOCH 186 ...\n",
      "Validation Accuracy = 0.954\n",
      "\n",
      "EPOCH 187 ...\n",
      "Validation Accuracy = 0.958\n",
      "\n",
      "EPOCH 188 ...\n",
      "Validation Accuracy = 0.956\n",
      "\n",
      "EPOCH 189 ...\n",
      "Validation Accuracy = 0.956\n",
      "\n",
      "EPOCH 190 ...\n",
      "Validation Accuracy = 0.957\n",
      "\n",
      "EPOCH 191 ...\n",
      "Validation Accuracy = 0.954\n",
      "\n",
      "EPOCH 192 ...\n",
      "Validation Accuracy = 0.956\n",
      "\n",
      "EPOCH 193 ...\n",
      "Validation Accuracy = 0.954\n",
      "\n"
     ]
    },
    {
     "name": "stdout",
     "output_type": "stream",
     "text": [
      "EPOCH 194 ...\n",
      "Validation Accuracy = 0.963\n",
      "\n",
      "EPOCH 195 ...\n",
      "Validation Accuracy = 0.958\n",
      "\n",
      "EPOCH 196 ...\n",
      "Validation Accuracy = 0.957\n",
      "\n",
      "EPOCH 197 ...\n",
      "Validation Accuracy = 0.954\n",
      "\n",
      "EPOCH 198 ...\n",
      "Validation Accuracy = 0.956\n",
      "\n",
      "EPOCH 199 ...\n",
      "Validation Accuracy = 0.958\n",
      "\n",
      "EPOCH 200 ...\n",
      "Validation Accuracy = 0.955\n",
      "\n",
      "Model saved\n"
     ]
    }
   ],
   "source": [
    "with tf.Session() as sess:\n",
    "    sess.run(tf.global_variables_initializer())\n",
    "    num_examples = len(X_train)\n",
    "    print(\"Training...\")\n",
    "    print()\n",
    "    for i in range(EPOCHS):\n",
    "        X_train, y_train = shuffle(X_train, y_train)\n",
    "        for offset in range(0, num_examples, BATCH_SIZE):\n",
    "            keep = 0.5\n",
    "            end = offset + BATCH_SIZE\n",
    "            batch_x, batch_y = X_train[offset:end], y_train[offset:end]\n",
    "            sess.run(training_operation, feed_dict={x: batch_x, y: batch_y, keep_prob: keep})\n",
    "            \n",
    "        validation_accuracy = evaluate(X_validation, y_validation)\n",
    "        print(\"EPOCH {} ...\".format(i+1))\n",
    "        print(\"Validation Accuracy = {:.3f}\".format(validation_accuracy))\n",
    "        print()\n",
    "        \n",
    "    saver.save(sess, './lenet')\n",
    "    print(\"Model saved\")"
   ]
  },
  {
   "cell_type": "markdown",
   "metadata": {},
   "source": [
    "## Evaluate the Model with test set"
   ]
  },
  {
   "cell_type": "code",
   "execution_count": 133,
   "metadata": {},
   "outputs": [
    {
     "name": "stdout",
     "output_type": "stream",
     "text": [
      "Test Accuracy = 0.952\n"
     ]
    }
   ],
   "source": [
    "with tf.Session() as sess:\n",
    "    saver.restore(sess, tf.train.latest_checkpoint('.'))\n",
    "    \n",
    "    test_accuracy = evaluate(X_test, y_test)\n",
    "    print(\"Test Accuracy = {:.3f}\".format(test_accuracy))"
   ]
  },
  {
   "cell_type": "markdown",
   "metadata": {},
   "source": [
    "---\n",
    "\n",
    "## Step 3: Test a Model on New Images\n",
    "\n",
    "To give yourself more insight into how your model is working, download at least five pictures of German traffic signs from the web and use your model to predict the traffic sign type.\n",
    "\n",
    "You may find `signnames.csv` useful as it contains mappings from the class id (integer) to the actual sign name."
   ]
  },
  {
   "cell_type": "markdown",
   "metadata": {},
   "source": [
    "### Load and Output the Images"
   ]
  },
  {
   "cell_type": "code",
   "execution_count": 201,
   "metadata": {},
   "outputs": [
    {
     "data": {
      "image/png": "[encoded data removed]",
      "text/plain": [
       "<matplotlib.figure.Figure at 0x7f84cd18d828>"
      ]
     },
     "metadata": {},
     "output_type": "display_data"
    }
   ],
   "source": [
    "### Load the images and plot them here.\n",
    "### Feel free to use as many code cells as needed.\n",
    "from skimage import io\n",
    "from skimage.transform import resize\n",
    "import matplotlib.image as mpimg\n",
    "import glob\n",
    "images = np.array([mpimg.imread(img) for img in glob.glob(\"German-signs/*.jpeg\")])\n",
    "for i, im in enumerate(images):\n",
    "    plt.subplot(191 + i)\n",
    "    plt.imshow(im)\n",
    "\n",
    "plt.show()\n",
    "\n"
   ]
  },
  {
   "cell_type": "code",
   "execution_count": 229,
   "metadata": {},
   "outputs": [
    {
     "data": {
      "image/png": "[encoded data removed]",
      "text/plain": [
       "<matplotlib.figure.Figure at 0x7f84cfd72ba8>"
      ]
     },
     "metadata": {},
     "output_type": "display_data"
    }
   ],
   "source": [
    "#Resize and normalize the images\n",
    "from skimage.color import rgb2gray\n",
    "\n",
    "nimages = np.array([resize(img, (32,32), mode='edge') for img in images])\n",
    "\n",
    "for i, im in enumerate(nimages):\n",
    "    plt.subplot(191 + i)\n",
    "    plt.imshow(im)\n",
    "\n"
   ]
  },
  {
   "cell_type": "code",
   "execution_count": 230,
   "metadata": {},
   "outputs": [
    {
     "data": {
      "image/png": "[encoded data removed]",
      "text/plain": [
       "<matplotlib.figure.Figure at 0x7f84d033df98>"
      ]
     },
     "metadata": {},
     "output_type": "display_data"
    }
   ],
   "source": [
    "#gray scale\n",
    "gimages = convToGrayScale(nimages)\n",
    "norm_images = normalize(gimages)\n",
    "for i, im in enumerate(norm_images):\n",
    "    plt.subplot(191 + i)\n",
    "    plt.imshow(im.squeeze(), cmap=\"gray\")\n"
   ]
  },
  {
   "cell_type": "markdown",
   "metadata": {},
   "source": [
    "### Predict the Sign Type for Each Image"
   ]
  },
  {
   "cell_type": "markdown",
   "metadata": {},
   "source": [
    "### Run the predictions here and use the model to output the prediction for each image.\n",
    "### Make sure to pre-process the images with the same pre-processing pipeline used earlier.\n",
    "### Feel free to use as many code cells as needed.\n"
   ]
  },
  {
   "cell_type": "code",
   "execution_count": 231,
   "metadata": {},
   "outputs": [
    {
     "name": "stdout",
     "output_type": "stream",
     "text": [
      "[17 14 13 11 33  2]\n"
     ]
    }
   ],
   "source": [
    "pred = tf.argmax(logits,1)\n",
    "keep=1.0\n",
    "with tf.Session() as sess:\n",
    "    saver.restore(sess, tf.train.latest_checkpoint('.'))\n",
    "    res = sess.run(pred, feed_dict={x:norm_images, keep_prob: keep})\n",
    "    print(res)"
   ]
  },
  {
   "cell_type": "markdown",
   "metadata": {},
   "source": [
    "### Analyze Performance"
   ]
  },
  {
   "cell_type": "code",
   "execution_count": 234,
   "metadata": {},
   "outputs": [
    {
     "name": "stdout",
     "output_type": "stream",
     "text": [
      "labels :\n",
      "['No entry', 'Stop', 'Yield', 'Right-of-way at the next intersection', 'Turn right ahead', 'Speed limit (50km/h)']\n"
     ]
    },
    {
     "data": {
      "image/png": "[encoded data removed]",
      "text/plain": [
       "<matplotlib.figure.Figure at 0x7f847239c438>"
      ]
     },
     "metadata": {},
     "output_type": "display_data"
    }
   ],
   "source": [
    "### Calculate the accuracy for these 5 new images. \n",
    "### For example, if the model predicted 1 out of 5 signs correctly, it's 20% accurate on these new images.\n",
    "class_names = open('signnames.csv', 'r').readlines()\n",
    "class_names = [l.split(\",\") for l in class_names]\n",
    "class_names = dict([(int(l[0]), l[1].strip()) for l in class_names[1:]])\n",
    "print(\"labels :\", )\n",
    "for i, im in enumerate(images):\n",
    "    plt.subplot(191 + i)\n",
    "    plt.title(class_names[res[i]],fontsize=6)\n",
    "    plt.imshow(im)    \n",
    "print([class_names[i] for i in res])\n"
   ]
  },
  {
   "cell_type": "markdown",
   "metadata": {},
   "source": [
    "### Output Top 5 Softmax Probabilities For Each Image Found on the Web"
   ]
  },
  {
   "cell_type": "markdown",
   "metadata": {},
   "source": [
    "For each of the new images, print out the model's softmax probabilities to show the **certainty** of the model's predictions (limit the output to the top 5 probabilities for each image). [`tf.nn.top_k`](https://www.tensorflow.org/versions/r0.12/api_docs/python/nn.html#top_k) could prove helpful here. \n",
    "\n",
    "The example below demonstrates how tf.nn.top_k can be used to find the top k predictions for each image.\n",
    "\n",
    "`tf.nn.top_k` will return the values and indices (class ids) of the top k predictions. So if k=3, for each sign, it'll return the 3 largest probabilities (out of a possible 43) and the correspoding class ids.\n",
    "\n",
    "Take this numpy array as an example. The values in the array represent predictions. The array contains softmax probabilities for five candidate images with six possible classes. `tk.nn.top_k` is used to choose the three classes with the highest probability:\n",
    "\n",
    "```\n",
    "# (5, 6) array\n",
    "a = np.array([[ 0.24879643,  0.07032244,  0.12641572,  0.34763842,  0.07893497,\n",
    "         0.12789202],\n",
    "       [ 0.28086119,  0.27569815,  0.08594638,  0.0178669 ,  0.18063401,\n",
    "         0.15899337],\n",
    "       [ 0.26076848,  0.23664738,  0.08020603,  0.07001922,  0.1134371 ,\n",
    "         0.23892179],\n",
    "       [ 0.11943333,  0.29198961,  0.02605103,  0.26234032,  0.1351348 ,\n",
    "         0.16505091],\n",
    "       [ 0.09561176,  0.34396535,  0.0643941 ,  0.16240774,  0.24206137,\n",
    "         0.09155967]])\n",
    "```\n",
    "\n",
    "Running it through `sess.run(tf.nn.top_k(tf.constant(a), k=3))` produces:\n",
    "\n",
    "```\n",
    "TopKV2(values=array([[ 0.34763842,  0.24879643,  0.12789202],\n",
    "       [ 0.28086119,  0.27569815,  0.18063401],\n",
    "       [ 0.26076848,  0.23892179,  0.23664738],\n",
    "       [ 0.29198961,  0.26234032,  0.16505091],\n",
    "       [ 0.34396535,  0.24206137,  0.16240774]]), indices=array([[3, 0, 5],\n",
    "       [0, 1, 4],\n",
    "       [0, 5, 1],\n",
    "       [1, 3, 5],\n",
    "       [1, 4, 3]], dtype=int32))\n",
    "```\n",
    "\n",
    "Looking just at the first row we get `[ 0.34763842,  0.24879643,  0.12789202]`, you can confirm these are the 3 largest probabilities in `a`. You'll also notice `[3, 0, 5]` are the corresponding indices."
   ]
  },
  {
   "cell_type": "code",
   "execution_count": 236,
   "metadata": {},
   "outputs": [
    {
     "name": "stdout",
     "output_type": "stream",
     "text": [
      "TopKV2(values=array([[  1.00000000e+00,   3.19237844e-12,   2.80287556e-14,\n",
      "          3.04427701e-20,   4.03468693e-21],\n",
      "       [  7.76965499e-01,   1.88975722e-01,   1.76167674e-02,\n",
      "          8.69912002e-03,   4.82041575e-03],\n",
      "       [  9.89457071e-01,   1.01632634e-02,   3.71611735e-04,\n",
      "          8.02097475e-06,   3.25204823e-08],\n",
      "       [  1.00000000e+00,   7.84609044e-10,   6.53895080e-12,\n",
      "          1.55072801e-15,   1.59962834e-17],\n",
      "       [  5.49179614e-01,   2.51911104e-01,   8.15104097e-02,\n",
      "          7.20563754e-02,   2.38209032e-02],\n",
      "       [  7.65135288e-01,   2.32003912e-01,   2.86084437e-03,\n",
      "          4.14908787e-20,   2.76660993e-20]], dtype=float32), indices=array([[17,  9, 14, 40, 34],\n",
      "       [14,  8,  4, 40, 31],\n",
      "       [13,  2, 10,  5, 38],\n",
      "       [11, 30, 27, 21, 28],\n",
      "       [33, 13, 35,  1,  3],\n",
      "       [ 2,  3,  5,  1,  7]], dtype=int32))\n"
     ]
    }
   ],
   "source": [
    "### Print out the top five softmax probabilities for the predictions on the German traffic sign images found on the web. \n",
    "### Feel free to use as many code cells as needed.\n",
    "\n",
    "with tf.Session() as sess:\n",
    "    saver.restore(sess, tf.train.latest_checkpoint('.'))\n",
    "    res = sess.run(tf.nn.top_k(tf.nn.softmax(logits), k=5), feed_dict={x:norm_images, keep_prob: keep})\n",
    "    print(res)\n",
    "    "
   ]
  },
  {
   "cell_type": "markdown",
   "metadata": {},
   "source": [
    "##### Project Writeup\n",
    "\n",
    "Once you have completed the code implementation, document your results in a project writeup using this [template](https://github.com/udacity/CarND-Traffic-Sign-Classifier-Project/blob/master/writeup_template.md) as a guide. The writeup can be in a markdown or pdf file. "
   ]
  },
  {
   "cell_type": "markdown",
   "metadata": {},
   "source": [
    "> **Note**: Once you have completed all of the code implementations and successfully answered each question above, you may finalize your work by exporting the iPython Notebook as an HTML document. You can do this by using the menu above and navigating to  \\n\",\n",
    "    \"**File -> Download as -> HTML (.html)**. Include the finished document along with this notebook as your submission."
   ]
  },
  {
   "cell_type": "markdown",
   "metadata": {},
   "source": [
    "---\n",
    "\n",
    "## Step 4 (Optional): Visualize the Neural Network's State with Test Images\n",
    "\n",
    " This Section is not required to complete but acts as an additional excersise for understaning the output of a neural network's weights. While neural networks can be a great learning device they are often referred to as a black box. We can understand what the weights of a neural network look like better by plotting their feature maps. After successfully training your neural network you can see what it's feature maps look like by plotting the output of the network's weight layers in response to a test stimuli image. From these plotted feature maps, it's possible to see what characteristics of an image the network finds interesting. For a sign, maybe the inner network feature maps react with high activation to the sign's boundary outline or to the contrast in the sign's painted symbol.\n",
    "\n",
    " Provided for you below is the function code that allows you to get the visualization output of any tensorflow weight layer you want. The inputs to the function should be a stimuli image, one used during training or a new one you provided, and then the tensorflow variable name that represents the layer's state during the training process, for instance if you wanted to see what the [LeNet lab's](https://classroom.udacity.com/nanodegrees/nd013/parts/fbf77062-5703-404e-b60c-95b78b2f3f9e/modules/6df7ae49-c61c-4bb2-a23e-6527e69209ec/lessons/601ae704-1035-4287-8b11-e2c2716217ad/concepts/d4aca031-508f-4e0b-b493-e7b706120f81) feature maps looked like for it's second convolutional layer you could enter conv2 as the tf_activation variable.\n",
    "\n",
    "For an example of what feature map outputs look like, check out NVIDIA's results in their paper [End-to-End Deep Learning for Self-Driving Cars](https://devblogs.nvidia.com/parallelforall/deep-learning-self-driving-cars/) in the section Visualization of internal CNN State. NVIDIA was able to show that their network's inner weights had high activations to road boundary lines by comparing feature maps from an image with a clear path to one without. Try experimenting with a similar test to show that your trained network's weights are looking for interesting features, whether it's looking at differences in feature maps from images with or without a sign, or even what feature maps look like in a trained network vs a completely untrained one on the same sign image.\n",
    "\n",
    "<figure>\n",
    " <img src=\"visualize_cnn.png\" width=\"380\" alt=\"Combined Image\" />\n",
    " <figcaption>\n",
    " <p></p> \n",
    " <p style=\"text-align: center;\"> Your output should look something like this (above)</p> \n",
    " </figcaption>\n",
    "</figure>\n",
    " <p></p> \n"
   ]
  },
  {
   "cell_type": "code",
   "execution_count": null,
   "metadata": {
    "collapsed": true
   },
   "outputs": [],
   "source": [
    "### Visualize your network's feature maps here.\n",
    "### Feel free to use as many code cells as needed.\n",
    "\n",
    "# image_input: the test image being fed into the network to produce the feature maps\n",
    "# tf_activation: should be a tf variable name used during your training procedure that represents the calculated state of a specific weight layer\n",
    "# activation_min/max: can be used to view the activation contrast in more detail, by default matplot sets min and max to the actual min and max values of the output\n",
    "# plt_num: used to plot out multiple different weight feature map sets on the same block, just extend the plt number for each new feature map entry\n",
    "\n",
    "def outputFeatureMap(image_input, tf_activation, activation_min=-1, activation_max=-1 ,plt_num=1):\n",
    "    # Here make sure to preprocess your image_input in a way your network expects\n",
    "    # with size, normalization, ect if needed\n",
    "    # image_input =\n",
    "    # Note: x should be the same name as your network's tensorflow data placeholder variable\n",
    "    # If you get an error tf_activation is not defined it may be having trouble accessing the variable from inside a function\n",
    "    activation = tf_activation.eval(session=sess,feed_dict={x : image_input})\n",
    "    featuremaps = activation.shape[3]\n",
    "    plt.figure(plt_num, figsize=(15,15))\n",
    "    for featuremap in range(featuremaps):\n",
    "        plt.subplot(6,8, featuremap+1) # sets the number of feature maps to show on each row and column\n",
    "        plt.title('FeatureMap ' + str(featuremap)) # displays the feature map number\n",
    "        if activation_min != -1 & activation_max != -1:\n",
    "            plt.imshow(activation[0,:,:, featuremap], interpolation=\"nearest\", vmin =activation_min, vmax=activation_max, cmap=\"gray\")\n",
    "        elif activation_max != -1:\n",
    "            plt.imshow(activation[0,:,:, featuremap], interpolation=\"nearest\", vmax=activation_max, cmap=\"gray\")\n",
    "        elif activation_min !=-1:\n",
    "            plt.imshow(activation[0,:,:, featuremap], interpolation=\"nearest\", vmin=activation_min, cmap=\"gray\")\n",
    "        else:\n",
    "            plt.imshow(activation[0,:,:, featuremap], interpolation=\"nearest\", cmap=\"gray\")"
   ]
  }
 ],
 "metadata": {
  "anaconda-cloud": {},
  "kernelspec": {
   "display_name": "Python 3",
   "language": "python",
   "name": "python3"
  },
  "language_info": {
   "codemirror_mode": {
    "name": "ipython",
    "version": 3
   },
   "file_extension": ".py",
   "mimetype": "text/x-python",
   "name": "python",
   "nbconvert_exporter": "python",
   "pygments_lexer": "ipython3",
   "version": "3.5.2"
  },
  "widgets": {
   "state": {},
   "version": "1.1.2"
  }
 },
 "nbformat": 4,
 "nbformat_minor": 1
}
